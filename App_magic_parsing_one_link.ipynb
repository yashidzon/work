{
 "cells": [
  {
   "cell_type": "code",
   "execution_count": 27,
   "id": "7de1c650",
   "metadata": {},
   "outputs": [],
   "source": [
    "from selenium.webdriver.chrome.options import Options\n",
    "from selenium.common.exceptions import NoSuchElementException\n",
    "from selenium import webdriver\n",
    "from time import sleep\n",
    "import pandas as pd\n",
    "import numpy as np\n",
    "from openpyxl.workbook import Workbook\n",
    "import base64"
   ]
  },
  {
   "cell_type": "code",
   "execution_count": 49,
   "id": "e0c7ba4b",
   "metadata": {},
   "outputs": [],
   "source": [
    "name_ = []\n",
    "publisher_ = []\n",
    "setting_ = []\n",
    "revenue_ = []\n",
    "lifetime_revenue_ = []\n",
    "downloads_ = []\n",
    "lifetime_downloads_ = []\n",
    "rpd_ = []\n",
    "realeses_ = []\n",
    "raiting_ = []"
   ]
  },
  {
   "cell_type": "code",
   "execution_count": 50,
   "id": "91f93505",
   "metadata": {},
   "outputs": [],
   "source": [
    "#функция для парсинга top grossing\n",
    "def parcing_link(link):\n",
    "    #опция, чтобы браузер не открывался\n",
    "    options = Options()\n",
    "    options.add_argument('--headless')\n",
    "    driver = webdriver.Chrome(options=options)\n",
    "    sleep(3)\n",
    "    driver.get(link)\n",
    "    #чтобы сайт успел прогрузится ждем 4 секунды перед парсингом\n",
    "    sleep(6)\n",
    "    #берем название игры\n",
    "    name = driver.find_element(\"xpath\", '/html/body/app-root/layout/div[2]/app-page/app-info-dialog/div[1]/div[1]/div[1]/div[2]/div[1]/div')\n",
    "    name = name.text\n",
    "    name_.append(name)\n",
    "    #берем паблишера\n",
    "    publisher = driver.find_element(\"xpath\", '/html/body/app-root/layout/div[2]/app-page/app-info-dialog/div[1]/div[1]/div[1]/div[2]/div[2]')\n",
    "    publisher = publisher.text\n",
    "    publisher_.append(publisher)\n",
    "    #пытаемся найти сетинг на странице\n",
    "    try: \n",
    "        setting = driver.find_element(\"xpath\", '/html/body/app-root/layout/div[2]/app-page/app-info-dialog/div[1]/div[1]/div[1]/div[2]/application-tags/div[4]/div[2]')\n",
    "        setting = setting.text\n",
    "    except NoSuchElementException:\n",
    "        setting = '-'\n",
    "    setting_.append(setting)\n",
    "    #берем ревенью за 30 дней\n",
    "    revenue = driver.find_element(\"xpath\", '/html/body/app-root/layout/div[2]/app-page/app-info-dialog/div[1]/div[3]/widgets-wrap/div/div[1]/div[1]/metric-widget/div/div/div')\n",
    "    if revenue.text == 'No revenue over lifetime':\n",
    "        revenue = 'No revenue over lifetime'\n",
    "    else: \n",
    "        revenue = driver.find_element(\"xpath\", '/html/body/app-root/layout/div[2]/app-page/app-info-dialog/div[1]/div[3]/widgets-wrap/div/div[1]/div[1]/metric-widget/div/div[1]/span/span')\n",
    "        revenue = revenue.text  \n",
    "        sleep(1)\n",
    "        #находим и кликаем на суммарное ревенью\n",
    "        lifetime_revenue = driver.find_element(\"xpath\", '/html/body/app-root/layout/div[2]/app-page/app-info-dialog/div[1]/div[3]/widgets-wrap/div/div[1]/div[1]/metric-widget/div/div[1]/div/div[2]')\n",
    "        lifetime_revenue.click()\n",
    "        sleep(1)\n",
    "        #далее берем информацию о lifetime revenue\n",
    "        lifetime_revenue_value = driver.find_element(\"xpath\", '/html/body/app-root/layout/div[2]/app-page/app-info-dialog/div[1]/div[3]/widgets-wrap/div/div[1]/div[1]/metric-widget/div/div[1]/span/span')\n",
    "        lifetime_revenue_value = lifetime_revenue_value.text\n",
    "    revenue_.append(revenue)\n",
    "    lifetime_revenue_.append(lifetime_revenue_value)\n",
    "    #берем установки за 30 дней\n",
    "    downloads = driver.find_element(\"xpath\", \"/html/body/app-root/layout/div[2]/app-page/app-info-dialog/div[1]/div[3]/widgets-wrap/div/div[1]/div[2]/metric-widget\")\n",
    "    if downloads.text == 'No downloads over lifetime':\n",
    "        downloads = 'No downloads over lifetime'\n",
    "        lifetime_downloads_value = 'No downloads over lifetime'\n",
    "    else:\n",
    "        downloads = driver.find_element(\"xpath\", \"/html/body/app-root/layout/div[2]/app-page/app-info-dialog/div[1]/div[3]/widgets-wrap/div/div[1]/div[2]/metric-widget/div/div[1]/span/span\")\n",
    "        downloads = downloads.text\n",
    "        sleep(1)\n",
    "        #находим и кликаем на суммарные скачивания\n",
    "        lifetime_downloads = driver.find_element(\"xpath\", '/html/body/app-root/layout/div[2]/app-page/app-info-dialog/div[1]/div[3]/widgets-wrap/div/div[1]/div[2]/metric-widget/div/div/div/div[2]')\n",
    "        lifetime_downloads.click()\n",
    "        sleep(1)\n",
    "        #берем информацию о суммарных скачиваниях\n",
    "        lifetime_downloads_value = driver.find_element(\"xpath\", \"/html/body/app-root/layout/div[2]/app-page/app-info-dialog/div[1]/div[3]/widgets-wrap/div/div[1]/div[2]/metric-widget/div/div/span/span\")\n",
    "        lifetime_downloads_value = lifetime_downloads_value.text\n",
    "    downloads_.append(downloads)\n",
    "    lifetime_downloads_.append(lifetime_downloads_value)\n",
    "    #берем rpd\n",
    "    rpd = driver.find_element(\"xpath\", '/html/body/app-root/layout/div[2]/app-page/app-info-dialog/div[1]/div[3]/widgets-wrap/div/div[2]/div[2]/ltv-widget')\n",
    "    if rpd.text == 'RpD — $0':\n",
    "        rpd = '$0'\n",
    "    else:\n",
    "        rpd = driver.find_element(\"xpath\", '/html/body/app-root/layout/div[2]/app-page/app-info-dialog/div[1]/div[3]/widgets-wrap/div/div[2]/div[2]/ltv-widget/div[2]')\n",
    "        rpd = rpd.text\n",
    "        rpd = rpd.replace('\\n', ' ')\n",
    "    rpd_.append(rpd)\n",
    "    #берем дату релиза\n",
    "    realeses = driver.find_element(\"xpath\", '//*[@id=\"mat-tab-content-0-0\"]/div/info/div[3]/app-description/div[1]/span[2]')\n",
    "    realeses = realeses.text\n",
    "    realeses_.append(realeses)\n",
    "    #берем общий рейтинг\n",
    "    try:\n",
    "        raiting = driver.find_element(\"xpath\", '//*[@id=\"mat-tab-content-0-0\"]/div/info/app-rate-info/div[1]/div[1]')\n",
    "        raiting = raiting.text\n",
    "    except NoSuchElementException:\n",
    "        raiting = '-'\n",
    "    raiting_.append(raiting)"
   ]
  },
  {
   "cell_type": "code",
   "execution_count": 51,
   "id": "91e913bd",
   "metadata": {
    "scrolled": false
   },
   "outputs": [
    {
     "name": "stdout",
     "output_type": "stream",
     "text": [
      "CPU times: total: 46.9 ms\n",
      "Wall time: 20.6 s\n"
     ]
    }
   ],
   "source": [
    "%%time\n",
    "parcing_link('https://appmagic.rocks/iphone/genshin-impact/1467190251')"
   ]
  },
  {
   "cell_type": "code",
   "execution_count": 52,
   "id": "5bc6dc07",
   "metadata": {},
   "outputs": [],
   "source": [
    "#создаем датафрейм top free\n",
    "df = pd.DataFrame({'Game_Name': name_, 'Publisher':publisher_, \"Setting\":setting_, \\\n",
    "                  \"Revenue\": revenue_, \"Lifetime_revenue\": lifetime_revenue_, \"Downloads\":downloads_, \\\n",
    "                  \"Lifetime_downloads\": lifetime_downloads_, \"Rpd\": rpd_, \"Realese_date\":realeses_, \"Raiting\": raiting_})             "
   ]
  },
  {
   "cell_type": "code",
   "execution_count": 53,
   "id": "db355b27",
   "metadata": {},
   "outputs": [
    {
     "data": {
      "text/html": [
       "<div>\n",
       "<style scoped>\n",
       "    .dataframe tbody tr th:only-of-type {\n",
       "        vertical-align: middle;\n",
       "    }\n",
       "\n",
       "    .dataframe tbody tr th {\n",
       "        vertical-align: top;\n",
       "    }\n",
       "\n",
       "    .dataframe thead th {\n",
       "        text-align: right;\n",
       "    }\n",
       "</style>\n",
       "<table border=\"1\" class=\"dataframe\">\n",
       "  <thead>\n",
       "    <tr style=\"text-align: right;\">\n",
       "      <th></th>\n",
       "      <th>Game_Name</th>\n",
       "      <th>Publisher</th>\n",
       "      <th>Setting</th>\n",
       "      <th>Revenue</th>\n",
       "      <th>Lifetime_revenue</th>\n",
       "      <th>Downloads</th>\n",
       "      <th>Lifetime_downloads</th>\n",
       "      <th>Rpd</th>\n",
       "      <th>Realese_date</th>\n",
       "      <th>Raiting</th>\n",
       "    </tr>\n",
       "  </thead>\n",
       "  <tbody>\n",
       "    <tr>\n",
       "      <th>0</th>\n",
       "      <td>Genshin Impact</td>\n",
       "      <td>miHoYo Games</td>\n",
       "      <td>Fantasy</td>\n",
       "      <td>&gt; $100 000 000</td>\n",
       "      <td>&gt; $2 000 000 000</td>\n",
       "      <td>&gt; 2 000 000</td>\n",
       "      <td>&gt; 100 000 000</td>\n",
       "      <td>Tier-1 East $42,25 Tier-1 West $26,31 Global $...</td>\n",
       "      <td>Release Date — September 24, 2020</td>\n",
       "      <td>4.4</td>\n",
       "    </tr>\n",
       "  </tbody>\n",
       "</table>\n",
       "</div>"
      ],
      "text/plain": [
       "        Game_Name     Publisher  Setting         Revenue  Lifetime_revenue  \\\n",
       "0  Genshin Impact  miHoYo Games  Fantasy  > $100 000 000  > $2 000 000 000   \n",
       "\n",
       "     Downloads Lifetime_downloads  \\\n",
       "0  > 2 000 000      > 100 000 000   \n",
       "\n",
       "                                                 Rpd  \\\n",
       "0  Tier-1 East $42,25 Tier-1 West $26,31 Global $...   \n",
       "\n",
       "                        Realese_date Raiting  \n",
       "0  Release Date — September 24, 2020     4.4  "
      ]
     },
     "execution_count": 53,
     "metadata": {},
     "output_type": "execute_result"
    }
   ],
   "source": [
    "df"
   ]
  },
  {
   "cell_type": "code",
   "execution_count": 83,
   "id": "97fdbd3a",
   "metadata": {},
   "outputs": [],
   "source": [
    "#грузим в файл excel с названием 'top_free'\n",
    "df.to_excel('apps.xlsx', sheet_name='app_info', index=False)"
   ]
  },
  {
   "cell_type": "code",
   "execution_count": null,
   "id": "dc8d47ea",
   "metadata": {},
   "outputs": [],
   "source": []
  }
 ],
 "metadata": {
  "kernelspec": {
   "display_name": "Python 3 (ipykernel)",
   "language": "python",
   "name": "python3"
  },
  "language_info": {
   "codemirror_mode": {
    "name": "ipython",
    "version": 3
   },
   "file_extension": ".py",
   "mimetype": "text/x-python",
   "name": "python",
   "nbconvert_exporter": "python",
   "pygments_lexer": "ipython3",
   "version": "3.9.16"
  }
 },
 "nbformat": 4,
 "nbformat_minor": 5
}
