{
 "cells": [
  {
   "cell_type": "code",
   "execution_count": 60,
   "id": "7de1c650",
   "metadata": {},
   "outputs": [],
   "source": [
    "from selenium.webdriver.chrome.options import Options\n",
    "from selenium.common.exceptions import NoSuchElementException\n",
    "from selenium import webdriver\n",
    "from time import sleep\n",
    "import pandas as pd\n",
    "import numpy as np\n",
    "from openpyxl.workbook import Workbook\n",
    "import base64"
   ]
  },
  {
   "cell_type": "code",
   "execution_count": 61,
   "id": "6393823c",
   "metadata": {},
   "outputs": [],
   "source": [
    "#функция, которая создает xpath для приложений в top_free и top_grossing\n",
    "def xpath_top_free_and_top_grossing(first_number=1, second_number=10):\n",
    "    i = first_number\n",
    "    while i <= second_number:\n",
    "        xpath = '//*[@id=\"cy-top-rows-wrap\"]/div/div/top-apps-item[{:d}]/app-list-item/div[2]/div/div/a'\n",
    "        xpath_ = xpath.format(i)\n",
    "        i = i + 1\n",
    "        top_free_and_top_grossing_xpaths.append(xpath_)"
   ]
  },
  {
   "cell_type": "code",
   "execution_count": 62,
   "id": "47ed2b96",
   "metadata": {},
   "outputs": [],
   "source": [
    "top_free_and_top_grossing_xpaths = [] #пустой массив, чтобы положить в него xpath для дальнейшего парсинга ссылок\n",
    "xpath_top_free_and_top_grossing()\n",
    "#значения в функции по умолчанию 1, 10 - т.е. сохраняется топ 10 приложений, если хочешь поменять, то введи два числа через \",\"\n",
    "#пример xpath_top_free_and_top_grossing(10,20) - будет сохранен топ с 10 по 20 приложение"
   ]
  },
  {
   "cell_type": "code",
   "execution_count": 65,
   "id": "bb4c5b3d",
   "metadata": {},
   "outputs": [],
   "source": [
    "#функция для поиска ссылок в top grossing\n",
    "def links_top_grossing_function(link):\n",
    "    options = Options()\n",
    "    options.add_argument(\"--window-size=600,600\")\n",
    "    options.add_argument('--headless')\n",
    "    driver = webdriver.Chrome(options=options)\n",
    "    driver.get(f'{link}')\n",
    "    sleep(4)\n",
    "    category = driver.find_element(\"xpath\", '//*[@id=\"cy-top-head-select-col\"]/div')\n",
    "    category.click()\n",
    "    grossing = driver.find_element(\"xpath\", '//*[@id=\"cy-item-revenue\"]/span')\n",
    "    grossing.click()\n",
    "    sleep(2)\n",
    "    for i in top_free_and_top_grossing_xpaths:\n",
    "        xpath = driver.find_element('xpath', i)\n",
    "        link = xpath.get_attribute('href')\n",
    "        top_grossing_links.append(link)\n",
    "    return 'Все спарсилось. Линки хранятся в переменной top_grossing_links'"
   ]
  },
  {
   "cell_type": "code",
   "execution_count": 66,
   "id": "78048c8a",
   "metadata": {},
   "outputs": [],
   "source": [
    "#функция для поиска ссылок в top free\n",
    "def links_top_free_function(link):\n",
    "    options = Options()\n",
    "    options.add_argument(\"--window-size=600,600\")\n",
    "    options.add_argument('--headless')\n",
    "    driver = webdriver.Chrome(options=options)\n",
    "    driver.get(f'{link}')\n",
    "    sleep(4)\n",
    "    for i in top_free_and_top_grossing_xpaths:\n",
    "        xpath = driver.find_element('xpath', i)\n",
    "        link = xpath.get_attribute('href')\n",
    "        top_free_links.append(link)\n",
    "    return 'Все спарсилось. Линки хранятся в переменной top_free_links'"
   ]
  },
  {
   "cell_type": "code",
   "execution_count": 69,
   "id": "1e7e8f42",
   "metadata": {},
   "outputs": [
    {
     "name": "stdout",
     "output_type": "stream",
     "text": [
      "CPU times: total: 0 ns\n",
      "Wall time: 11.4 s\n"
     ]
    },
    {
     "data": {
      "text/plain": [
       "'Все спарсилось. Линки хранятся в переменной top_free_links'"
      ]
     },
     "execution_count": 69,
     "metadata": {},
     "output_type": "execute_result"
    }
   ],
   "source": [
    "%%time\n",
    "top_free_links = [] #пустой массив, где будут хранится ссылки\n",
    "links_top_free_function('https://appmagic.rocks/top-charts/apps?tag=243572') #ccылка откуда парсим, не забудь ''"
   ]
  },
  {
   "cell_type": "code",
   "execution_count": 68,
   "id": "19dfc707",
   "metadata": {
    "scrolled": true
   },
   "outputs": [
    {
     "name": "stdout",
     "output_type": "stream",
     "text": [
      "CPU times: total: 15.6 ms\n",
      "Wall time: 14.3 s\n"
     ]
    },
    {
     "data": {
      "text/plain": [
       "'Все спарсилось. Линки хранятся в переменной top_grossing_links'"
      ]
     },
     "execution_count": 68,
     "metadata": {},
     "output_type": "execute_result"
    }
   ],
   "source": [
    "%%time\n",
    "top_grossing_links = [] #пустой массив, где будут хранится ссылки\n",
    "links_top_grossing_function('https://appmagic.rocks/top-charts/apps?tag=243572') #ccылка откуда парсим, не забудь ''"
   ]
  },
  {
   "cell_type": "code",
   "execution_count": 70,
   "id": "d459e5c4",
   "metadata": {},
   "outputs": [],
   "source": [
    "# делаем пустые массива для сбора информации в top_free\n",
    "name_free = []\n",
    "publisher_free = []\n",
    "setting_free = []\n",
    "revenue_free = []\n",
    "lifetime_revenue_free = []\n",
    "downloads_free = []\n",
    "lifetime_downloads_free = []\n",
    "rpd_free = []\n",
    "realeses_free = []\n",
    "raiting_free = []"
   ]
  },
  {
   "cell_type": "code",
   "execution_count": 71,
   "id": "94805a59",
   "metadata": {},
   "outputs": [],
   "source": [
    "# делаем пустые массива для сбора информации в top_grossing\n",
    "name_grossing = []\n",
    "publisher_grossing = []\n",
    "setting_grossing = []\n",
    "revenue_grossing = []\n",
    "lifetime_revenue_grossing = []\n",
    "downloads_grossing = []\n",
    "lifetime_downloads_grossing = []\n",
    "rpd_grossing = []\n",
    "realeses_grossing = []\n",
    "raiting_grossing = []"
   ]
  },
  {
   "cell_type": "code",
   "execution_count": 72,
   "id": "91f93505",
   "metadata": {},
   "outputs": [],
   "source": [
    "#функция для парсинга top grossing\n",
    "def parcing_gross():\n",
    "    for i in top_grossing_links:\n",
    "        #опция, чтобы браузер не открывался\n",
    "        options = Options()\n",
    "        options.add_argument('--headless')\n",
    "        driver = webdriver.Chrome(options=options)\n",
    "        sleep(3)\n",
    "        driver.get(i)\n",
    "        #чтобы сайт успел прогрузится ждем 4 секунды перед парсингом\n",
    "        sleep(6)\n",
    "        #берем название игры\n",
    "        name = driver.find_element(\"xpath\", '/html/body/app-root/layout/div[2]/app-page/app-info-dialog/div[1]/div[1]/div[1]/div[2]/div[1]/div')\n",
    "        name = name.text\n",
    "        name_grossing.append(name)\n",
    "        #берем паблишера\n",
    "        publisher = driver.find_element(\"xpath\", '/html/body/app-root/layout/div[2]/app-page/app-info-dialog/div[1]/div[1]/div[1]/div[2]/div[2]')\n",
    "        publisher = publisher.text\n",
    "        publisher_grossing.append(publisher)\n",
    "        #пытаемся найти сетинг на странице\n",
    "        try: \n",
    "            setting = driver.find_element(\"xpath\", '/html/body/app-root/layout/div[2]/app-page/app-info-dialog/div[1]/div[1]/div[1]/div[2]/application-tags/div[4]/div[2]')\n",
    "            setting = setting.text\n",
    "        except NoSuchElementException:\n",
    "            setting = '-'\n",
    "        setting_grossing.append(setting)\n",
    "        #берем ревенью за 30 дней\n",
    "        revenue = driver.find_element(\"xpath\", '/html/body/app-root/layout/div[2]/app-page/app-info-dialog/div[1]/div[3]/widgets-wrap/div/div[1]/div[1]/metric-widget/div/div/div')\n",
    "        if revenue.text == 'No revenue over lifetime':\n",
    "            revenue = 'No revenue over lifetime'\n",
    "        else: \n",
    "            revenue = driver.find_element(\"xpath\", '/html/body/app-root/layout/div[2]/app-page/app-info-dialog/div[1]/div[3]/widgets-wrap/div/div[1]/div[1]/metric-widget/div/div[1]/span/span')\n",
    "            revenue = revenue.text  \n",
    "            sleep(1)\n",
    "            #находим и кликаем на суммарное ревенью\n",
    "            lifetime_revenue = driver.find_element(\"xpath\", '/html/body/app-root/layout/div[2]/app-page/app-info-dialog/div[1]/div[3]/widgets-wrap/div/div[1]/div[1]/metric-widget/div/div[1]/div/div[2]')\n",
    "            lifetime_revenue.click()\n",
    "            sleep(1)\n",
    "            #далее берем информацию о lifetime revenue\n",
    "            lifetime_revenue_value = driver.find_element(\"xpath\", '/html/body/app-root/layout/div[2]/app-page/app-info-dialog/div[1]/div[3]/widgets-wrap/div/div[1]/div[1]/metric-widget/div/div[1]/span/span')\n",
    "            lifetime_revenue_value = lifetime_revenue_value.text\n",
    "        revenue_grossing.append(revenue)\n",
    "        lifetime_revenue_grossing.append(lifetime_revenue_value)\n",
    "        #берем установки за 30 дней\n",
    "        downloads = driver.find_element(\"xpath\", \"/html/body/app-root/layout/div[2]/app-page/app-info-dialog/div[1]/div[3]/widgets-wrap/div/div[1]/div[2]/metric-widget\")\n",
    "        if downloads.text == 'No downloads over lifetime':\n",
    "            downloads = 'No downloads over lifetime'\n",
    "            lifetime_downloads_value = 'No downloads over lifetime'\n",
    "        else:\n",
    "            downloads = driver.find_element(\"xpath\", \"/html/body/app-root/layout/div[2]/app-page/app-info-dialog/div[1]/div[3]/widgets-wrap/div/div[1]/div[2]/metric-widget/div/div[1]/span/span\")\n",
    "            downloads = downloads.text\n",
    "            sleep(1)\n",
    "            #находим и кликаем на суммарные скачивания\n",
    "            lifetime_downloads = driver.find_element(\"xpath\", '/html/body/app-root/layout/div[2]/app-page/app-info-dialog/div[1]/div[3]/widgets-wrap/div/div[1]/div[2]/metric-widget/div/div[1]/span/span')\n",
    "            lifetime_downloads.click()\n",
    "            sleep(1)\n",
    "            #берем информацию о суммарных скачиваниях\n",
    "            lifetime_downloads_value = driver.find_element(\"xpath\", \"/html/body/app-root/layout/div[2]/app-page/app-info-dialog/div[1]/div[3]/widgets-wrap/div/div[1]/div[2]/metric-widget/div/div[1]/span/span\")\n",
    "            lifetime_downloads_value = lifetime_downloads_value.text\n",
    "        downloads_grossing.append(downloads)\n",
    "        lifetime_downloads_grossing.append(lifetime_downloads_value)\n",
    "        #берем rpd\n",
    "        rpd = driver.find_element(\"xpath\", '/html/body/app-root/layout/div[2]/app-page/app-info-dialog/div[1]/div[3]/widgets-wrap/div/div[2]/div[2]/ltv-widget')\n",
    "        if rpd.text == 'RpD — $0':\n",
    "            rpd = '$0'\n",
    "        else:\n",
    "            rpd = driver.find_element(\"xpath\", '/html/body/app-root/layout/div[2]/app-page/app-info-dialog/div[1]/div[3]/widgets-wrap/div/div[2]/div[2]/ltv-widget/div[2]')\n",
    "            rpd = rpd.text\n",
    "            rpd = rpd.replace('\\n', ' ')\n",
    "        rpd_grossing.append(rpd)\n",
    "        #берем дату релиза\n",
    "        realeses = driver.find_element(\"xpath\", '//*[@id=\"mat-tab-content-0-0\"]/div/info/div[3]/app-description/div[1]/span[2]')\n",
    "        realeses = realeses.text\n",
    "        realeses_grossing.append(realeses)\n",
    "        #берем общий рейтинг\n",
    "        try:\n",
    "            raiting = driver.find_element(\"xpath\", '//*[@id=\"mat-tab-content-0-0\"]/div/info/app-rate-info/div[1]/div[1]')\n",
    "            raiting = raiting.text\n",
    "        except NoSuchElementException:\n",
    "            raiting = '-'\n",
    "        raiting_grossing.append(raiting)"
   ]
  },
  {
   "cell_type": "code",
   "execution_count": 73,
   "id": "4a7d8047",
   "metadata": {},
   "outputs": [],
   "source": [
    "#функция для парсинга top free\n",
    "def parcing_free():\n",
    "    for i in top_free_links:\n",
    "        #опция, чтобы браузер не открывался\n",
    "        options = Options()\n",
    "        options.add_argument('--headless')\n",
    "        driver = webdriver.Chrome(options=options)\n",
    "        sleep(3)\n",
    "        driver.get(i)\n",
    "        #чтобы сайт успел прогрузится ждем 4 секунды перед парсингом\n",
    "        sleep(6)\n",
    "        #берем название игры\n",
    "        name = driver.find_element(\"xpath\", '/html/body/app-root/layout/div[2]/app-page/app-info-dialog/div[1]/div[1]/div[1]/div[2]/div[1]')\n",
    "        name = name.text\n",
    "        name_free.append(name)\n",
    "        #берем паблишера\n",
    "        publisher = driver.find_element(\"xpath\", '/html/body/app-root/layout/div[2]/app-page/app-info-dialog/div[1]/div[1]/div[1]/div[2]/div[2]')\n",
    "        publisher = publisher.text\n",
    "        publisher_free.append(publisher)\n",
    "        #пытаемся найти сетинг на странице\n",
    "        try: \n",
    "            setting = driver.find_element(\"xpath\", '/html/body/app-root/layout/div[2]/app-page/app-info-dialog/div[1]/div[1]/div[1]/div[2]/application-tags/div[4]/div[2]')\n",
    "            setting = setting.text\n",
    "        except NoSuchElementException:\n",
    "            setting = '-'\n",
    "        setting_free.append(setting)\n",
    "        #берем ревенью за 30 дней\n",
    "        revenue = driver.find_element(\"xpath\", '/html/body/app-root/layout/div[2]/app-page/app-info-dialog/div[1]/div[3]/widgets-wrap/div/div[1]/div[1]/metric-widget/div/div/div')\n",
    "        if revenue.text == 'No revenue over lifetime':\n",
    "            revenue = 'No revenue over lifetime'\n",
    "            lifetime_revenue_value = 'No revenue over lifetime'\n",
    "        else: \n",
    "            revenue = driver.find_element(\"xpath\", '/html/body/app-root/layout/div[2]/app-page/app-info-dialog/div[1]/div[3]/widgets-wrap/div/div[1]/div[1]/metric-widget/div/div[1]/span/span')\n",
    "            revenue = revenue.text  \n",
    "            sleep(1)\n",
    "            #находим и кликаем на суммарное ревенью\n",
    "            lifetime_revenue = driver.find_element(\"xpath\", '/html/body/app-root/layout/div[2]/app-page/app-info-dialog/div[1]/div[3]/widgets-wrap/div/div[1]/div[1]/metric-widget/div/div[1]/div/div[2]')\n",
    "            lifetime_revenue.click()\n",
    "            #далее берем информацию о lifetime revenue\n",
    "            lifetime_revenue_value = driver.find_element(\"xpath\", '/html/body/app-root/layout/div[2]/app-page/app-info-dialog/div[1]/div[3]/widgets-wrap/div/div[1]/div[1]/metric-widget/div/div[1]/span/span')\n",
    "            lifetime_revenue_value = lifetime_revenue_value.text\n",
    "        revenue_free.append(revenue)\n",
    "        lifetime_revenue_free.append(lifetime_revenue_value)\n",
    "        #берем установки за 30 дней\n",
    "        downloads = driver.find_element(\"xpath\", \"/html/body/app-root/layout/div[2]/app-page/app-info-dialog/div[1]/div[3]/widgets-wrap/div/div[1]/div[2]/metric-widget\")\n",
    "        if downloads.text == 'No downloads over lifetime':\n",
    "            downloads = 'No downloads over lifetime'\n",
    "            lifetime_downloads_value = 'No downloads over lifetime'\n",
    "        else:\n",
    "            downloads = driver.find_element(\"xpath\", \"/html/body/app-root/layout/div[2]/app-page/app-info-dialog/div[1]/div[3]/widgets-wrap/div/div[1]/div[2]/metric-widget/div/div[1]/span/span\")\n",
    "            downloads = downloads.text\n",
    "            #находим и кликаем на суммарные скачивания\n",
    "            lifetime_downloads = driver.find_element(\"xpath\", '/html/body/app-root/layout/div[2]/app-page/app-info-dialog/div[1]/div[3]/widgets-wrap/div/div[1]/div[2]/metric-widget/div/div/div/div[2]')\n",
    "            lifetime_downloads.click()\n",
    "            #берем информацию о суммарных скачиваниях\n",
    "            lifetime_downloads_value = driver.find_element(\"xpath\", \"/html/body/app-root/layout/div[2]/app-page/app-info-dialog/div[1]/div[3]/widgets-wrap/div/div[1]/div[2]/metric-widget/div/div[1]/span/span\")\n",
    "            lifetime_downloads_value = lifetime_downloads_value.text\n",
    "        downloads_free.append(downloads)\n",
    "        lifetime_downloads_free.append(lifetime_downloads_value)\n",
    "        #берем rpd\n",
    "        rpd = driver.find_element(\"xpath\", '/html/body/app-root/layout/div[2]/app-page/app-info-dialog/div[1]/div[3]/widgets-wrap/div/div[2]/div[2]/ltv-widget')\n",
    "        if rpd.text == 'RpD — $0':\n",
    "            rpd = '$0'\n",
    "        else:\n",
    "            rpd = driver.find_element(\"xpath\", '/html/body/app-root/layout/div[2]/app-page/app-info-dialog/div[1]/div[3]/widgets-wrap/div/div[2]/div[2]/ltv-widget/div[2]')\n",
    "            rpd = rpd.text\n",
    "            rpd = rpd.replace('\\n', ' ')\n",
    "        rpd_free.append(rpd)\n",
    "        #берем дату релиза\n",
    "        realeses = driver.find_element(\"xpath\", '//*[@id=\"mat-tab-content-0-0\"]/div/info/div[3]/app-description/div[1]/span[2]')\n",
    "        realeses = realeses.text\n",
    "        realeses_free.append(realeses)\n",
    "        #берем общий рейтинг\n",
    "        try:\n",
    "            raiting = driver.find_element(\"xpath\", '//*[@id=\"mat-tab-content-0-0\"]/div/info/app-rate-info/div[1]/div[1]')\n",
    "            raiting = raiting.text\n",
    "        except NoSuchElementException:\n",
    "            raiting = '-'\n",
    "        raiting_free.append(raiting)\n",
    "        driver.close()"
   ]
  },
  {
   "cell_type": "code",
   "execution_count": 74,
   "id": "91e913bd",
   "metadata": {
    "scrolled": false
   },
   "outputs": [
    {
     "name": "stdout",
     "output_type": "stream",
     "text": [
      "CPU times: total: 93.8 ms\n",
      "Wall time: 3min\n"
     ]
    }
   ],
   "source": [
    "%%time\n",
    "#запускаем парсинг top_free\n",
    "parcing_free()"
   ]
  },
  {
   "cell_type": "code",
   "execution_count": 75,
   "id": "9e0da7ab",
   "metadata": {
    "scrolled": true
   },
   "outputs": [
    {
     "name": "stdout",
     "output_type": "stream",
     "text": [
      "CPU times: total: 188 ms\n",
      "Wall time: 3min 47s\n"
     ]
    }
   ],
   "source": [
    "%%time\n",
    "#запускаем парсинг top_grossing, p.s. лучше запускать по очереди\n",
    "parcing_gross()"
   ]
  },
  {
   "cell_type": "code",
   "execution_count": 76,
   "id": "5bc6dc07",
   "metadata": {},
   "outputs": [],
   "source": [
    "#создаем датафрейм top free\n",
    "df_top_free = pd.DataFrame({'Game_Name': name_free, 'Publisher':publisher_free, \"Setting\":setting_free, \\\n",
    "                  \"Revenue\": revenue_free, \"Lifetime_revenue\": lifetime_revenue_free, \"Downloads\":downloads_free, \\\n",
    "                  \"Lifetime_downloads\": lifetime_downloads_free, \"Rpd\": rpd_free, \"Realese_date\":realeses_free, \"Raiting\": raiting_free})             "
   ]
  },
  {
   "cell_type": "code",
   "execution_count": 77,
   "id": "a9957194",
   "metadata": {},
   "outputs": [],
   "source": [
    "#создаем датафрейм top grossing\n",
    "df_top_grossing = pd.DataFrame({'Game_Name': name_grossing, 'Publisher':publisher_grossing, \"Setting\":setting_grossing, \\\n",
    "                  \"Revenue\": revenue_grossing, \"Lifetime_revenue\": lifetime_revenue_grossing, \"Downloads\":downloads_grossing, \\\n",
    "                  \"Lifetime_downloads\": lifetime_downloads_grossing, \"Rpd\": rpd_grossing, \"Realese_date\":realeses_grossing, \"Raiting\": raiting_grossing})             "
   ]
  },
  {
   "cell_type": "code",
   "execution_count": 83,
   "id": "97fdbd3a",
   "metadata": {},
   "outputs": [],
   "source": [
    "#грузим в файл excel с названием 'top_free'\n",
    "df_top_free.to_excel('top_free.xlsx', sheet_name='top_free', index=False)"
   ]
  },
  {
   "cell_type": "code",
   "execution_count": 84,
   "id": "78e079f7",
   "metadata": {},
   "outputs": [],
   "source": [
    "#грузим в файл excel с названием 'top_grossing'\n",
    "df_top_grossing.to_excel('top_grossing.xlsx', sheet_name = 'top_grossing', index=False)"
   ]
  },
  {
   "cell_type": "code",
   "execution_count": null,
   "id": "dc8d47ea",
   "metadata": {},
   "outputs": [],
   "source": []
  }
 ],
 "metadata": {
  "kernelspec": {
   "display_name": "Python 3 (ipykernel)",
   "language": "python",
   "name": "python3"
  },
  "language_info": {
   "codemirror_mode": {
    "name": "ipython",
    "version": 3
   },
   "file_extension": ".py",
   "mimetype": "text/x-python",
   "name": "python",
   "nbconvert_exporter": "python",
   "pygments_lexer": "ipython3",
   "version": "3.9.16"
  }
 },
 "nbformat": 4,
 "nbformat_minor": 5
}
